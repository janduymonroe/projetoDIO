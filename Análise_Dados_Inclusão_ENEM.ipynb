{
  "nbformat": 4,
  "nbformat_minor": 0,
  "metadata": {
    "colab": {
      "name": "Análise_Dados_Inclusão_ENEM.ipynb",
      "provenance": [],
      "collapsed_sections": [],
      "mount_file_id": "1pqxaRlz1K4VOazLPfJV2aTZxoMSq97Ny",
      "authorship_tag": "ABX9TyNwF82PJKFMWHUX5sxaEuLd",
      "include_colab_link": true
    },
    "kernelspec": {
      "name": "python3",
      "display_name": "Python 3"
    },
    "language_info": {
      "name": "python"
    }
  },
  "cells": [
    {
      "cell_type": "markdown",
      "metadata": {
        "id": "view-in-github",
        "colab_type": "text"
      },
      "source": [
        "<a href=\"https://colab.research.google.com/github/janduymonroe/projetoDIO/blob/master/An%C3%A1lise_Dados_Inclus%C3%A3o_ENEM.ipynb\" target=\"_parent\"><img src=\"https://colab.research.google.com/assets/colab-badge.svg\" alt=\"Open In Colab\"/></a>"
      ]
    },
    {
      "cell_type": "markdown",
      "metadata": {
        "id": "EFWL6m2Out8n"
      },
      "source": [
        "#Extração dos dados\n"
      ]
    },
    {
      "cell_type": "code",
      "metadata": {
        "id": "G24WnSkYwMcn"
      },
      "source": [
        "#Importando as bibliotecas que serão utilizadas\n",
        "import pandas as pd\n",
        "import pandera as pa"
      ],
      "execution_count": 32,
      "outputs": []
    },
    {
      "cell_type": "code",
      "metadata": {
        "id": "m89pehNMuSGo"
      },
      "source": [
        "#Atribuindo os caminhos dos diretórios a variáveis\n",
        "#Os arquivos tratados podem ser baixados no link \n",
        "#https://drive.google.com/drive/folders/1cK39kp8NiuhfUy6x0nqPbrinyQMhNP4e?usp=sharing\n",
        "\n",
        "url2016 = \"/content/drive/MyDrive/ProjetoDIO - Analise ENEM/enem_2016_tea.csv\"\n",
        "url2017 = \"/content/drive/MyDrive/ProjetoDIO - Analise ENEM/enem_2017_tea.csv\"\n",
        "url2018 = \"/content/drive/MyDrive/ProjetoDIO - Analise ENEM/enem_2018_tea.csv\"\n",
        "url2019 = \"/content/drive/MyDrive/ProjetoDIO - Analise ENEM/enem_2019_tea.csv\""
      ],
      "execution_count": 33,
      "outputs": []
    },
    {
      "cell_type": "code",
      "metadata": {
        "id": "yg0rPziKvMg3"
      },
      "source": [
        "#Passando os arquivos para variáveis \n",
        "\n",
        "df2016 = pd.read_csv(url2016)\n",
        "df2017 = pd.read_csv(url2017)\n",
        "df2018 = pd.read_csv(url2018)\n",
        "df2019 = pd.read_csv(url2019)"
      ],
      "execution_count": 34,
      "outputs": []
    },
    {
      "cell_type": "code",
      "metadata": {
        "id": "ISszU9whR0e-"
      },
      "source": [
        "#Como iremos unir os dataframe precisamos verificar se as colunas são iguais"
      ],
      "execution_count": null,
      "outputs": []
    },
    {
      "cell_type": "code",
      "metadata": {
        "id": "8DPD7VMzTGw9"
      },
      "source": [
        ""
      ],
      "execution_count": null,
      "outputs": []
    }
  ]
}