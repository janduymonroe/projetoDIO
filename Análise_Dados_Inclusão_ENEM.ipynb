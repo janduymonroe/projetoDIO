{
  "nbformat": 4,
  "nbformat_minor": 0,
  "metadata": {
    "colab": {
      "name": "Análise_Dados_Inclusão_ENEM.ipynb",
      "provenance": [],
      "collapsed_sections": [],
      "mount_file_id": "1pqxaRlz1K4VOazLPfJV2aTZxoMSq97Ny",
      "authorship_tag": "ABX9TyMBtYrwOhNHlgjQUU0uP3dy",
      "include_colab_link": true
    },
    "kernelspec": {
      "name": "python3",
      "display_name": "Python 3"
    },
    "language_info": {
      "name": "python"
    }
  },
  "cells": [
    {
      "cell_type": "markdown",
      "metadata": {
        "id": "view-in-github",
        "colab_type": "text"
      },
      "source": [
        "<a href=\"https://colab.research.google.com/github/janduymonroe/projetoDIO/blob/master/An%C3%A1lise_Dados_Inclus%C3%A3o_ENEM.ipynb\" target=\"_parent\"><img src=\"https://colab.research.google.com/assets/colab-badge.svg\" alt=\"Open In Colab\"/></a>"
      ]
    },
    {
      "cell_type": "markdown",
      "metadata": {
        "id": "EFWL6m2Out8n"
      },
      "source": [
        "#Extração dos dados\n"
      ]
    },
    {
      "cell_type": "code",
      "metadata": {
        "id": "G24WnSkYwMcn"
      },
      "source": [
        "#Importando as bibliotecas que serão utilizadas\n",
        "import pandas as pd\n",
        "import pandera as pa\n",
        "from functools import reduce"
      ],
      "execution_count": 99,
      "outputs": []
    },
    {
      "cell_type": "code",
      "metadata": {
        "id": "m89pehNMuSGo"
      },
      "source": [
        "#Atribuindo os caminhos dos diretórios a variáveis\n",
        "#Os arquivos tratados podem ser baixados no link \n",
        "#https://drive.google.com/drive/folders/1cK39kp8NiuhfUy6x0nqPbrinyQMhNP4e?usp=sharing\n",
        "\n",
        "url2016 = \"/content/drive/MyDrive/ProjetoDIO - Analise ENEM/enem_2016_tea.csv\"\n",
        "url2017 = \"/content/drive/MyDrive/ProjetoDIO - Analise ENEM/enem_2017_tea.csv\"\n",
        "url2018 = \"/content/drive/MyDrive/ProjetoDIO - Analise ENEM/enem_2018_tea.csv\"\n",
        "url2019 = \"/content/drive/MyDrive/ProjetoDIO - Analise ENEM/enem_2019_tea.csv\""
      ],
      "execution_count": 100,
      "outputs": []
    },
    {
      "cell_type": "code",
      "metadata": {
        "id": "yg0rPziKvMg3"
      },
      "source": [
        "#Passando os arquivos para variáveis \n",
        "\n",
        "df2016 = pd.read_csv(url2016, index_col=0)\n",
        "df2017 = pd.read_csv(url2017, index_col=0)\n",
        "df2018 = pd.read_csv(url2018, index_col=0)\n",
        "df2019 = pd.read_csv(url2019, index_col=0)"
      ],
      "execution_count": 104,
      "outputs": []
    },
    {
      "cell_type": "code",
      "metadata": {
        "colab": {
          "base_uri": "https://localhost:8080/"
        },
        "id": "ISszU9whR0e-",
        "outputId": "8bb098ac-2f99-4703-d86a-d3f8d94e1992"
      },
      "source": [
        "#Como iremos unir os dataframe precisamos verificar se as colunas são iguais\n",
        "\n",
        "\n",
        "colunas2016 = df2016.columns\n",
        "colunas2017 = df2017.columns\n",
        "colunas2018 = df2018.columns\n",
        "colunas2019 = df2019.columns\n",
        "\n",
        "#Vamos verificar o tamanho de cadas lista para escolhermos a lista com menos colunas\n",
        "ano = 2016\n",
        "for tamanho in [colunas2016, colunas2017, colunas2018, colunas2019]:\n",
        "  print(f\"Colunas do ano de {ano}: {len(tamanho)}\")\n",
        "  ano += 1"
      ],
      "execution_count": 105,
      "outputs": [
        {
          "output_type": "stream",
          "text": [
            "Colunas do ano de 2016: 101\n",
            "Colunas do ano de 2017: 72\n",
            "Colunas do ano de 2018: 72\n",
            "Colunas do ano de 2019: 70\n"
          ],
          "name": "stdout"
        }
      ]
    },
    {
      "cell_type": "code",
      "metadata": {
        "id": "qqF3UZ3RXlZT"
      },
      "source": [
        ""
      ],
      "execution_count": 105,
      "outputs": []
    },
    {
      "cell_type": "code",
      "metadata": {
        "id": "8DPD7VMzTGw9"
      },
      "source": [
        "#Retirar as colunas que não são coincidentes com o ano de menor numero de colunas\n",
        "\n",
        "col_2016_exc = [coluna for coluna in colunas2016 if coluna not in colunas2019]\n",
        "col_2017_exc = [coluna for coluna in colunas2017 if coluna not in colunas2019]\n",
        "col_2018_exc = [coluna for coluna in colunas2018 if coluna not in colunas2019]   \n",
        "\n",
        "for colunas in col_2016_exc:\n",
        "  df2016 = df2016.drop(colunas, axis=1)\n",
        "\n",
        "for colunas in col_2017_exc:\n",
        "  df2017 = df2017.drop(colunas, axis=1)\n",
        "\n",
        "for colunas in col_2018_exc:\n",
        "  df2018 = df2018.drop(colunas, axis=1)"
      ],
      "execution_count": 106,
      "outputs": []
    },
    {
      "cell_type": "code",
      "metadata": {
        "colab": {
          "base_uri": "https://localhost:8080/"
        },
        "id": "Ol_TXIGINTpV",
        "outputId": "02fe60fa-29f3-4a82-b79c-c787c57d96a4"
      },
      "source": [
        "data_frames = [df2016, df2017, df2018, df2019]\n",
        "\n",
        "df = pd.concat(data_frames)\n",
        "\n",
        "df.columns"
      ],
      "execution_count": 113,
      "outputs": [
        {
          "output_type": "execute_result",
          "data": {
            "text/plain": [
              "Index(['NU_ANO', 'NO_MUNICIPIO_RESIDENCIA', 'SG_UF_RESIDENCIA', 'NU_IDADE',\n",
              "       'TP_SEXO', 'TP_ESTADO_CIVIL', 'TP_COR_RACA', 'TP_NACIONALIDADE',\n",
              "       'NO_MUNICIPIO_NASCIMENTO', 'SG_UF_NASCIMENTO', 'TP_ST_CONCLUSAO',\n",
              "       'TP_ANO_CONCLUIU', 'TP_ESCOLA', 'TP_ENSINO', 'IN_TREINEIRO',\n",
              "       'CO_ESCOLA', 'NO_MUNICIPIO_ESC', 'SG_UF_ESC', 'TP_DEPENDENCIA_ADM_ESC',\n",
              "       'TP_LOCALIZACAO_ESC', 'TP_SIT_FUNC_ESC', 'IN_BAIXA_VISAO',\n",
              "       'IN_CEGUEIRA', 'IN_SURDEZ', 'IN_DEFICIENCIA_AUDITIVA',\n",
              "       'IN_SURDO_CEGUEIRA', 'IN_DEFICIENCIA_FISICA', 'IN_DEFICIENCIA_MENTAL',\n",
              "       'IN_DEFICIT_ATENCAO', 'IN_DISLEXIA', 'IN_DISCALCULIA', 'IN_AUTISMO',\n",
              "       'IN_VISAO_MONOCULAR', 'IN_OUTRA_DEF', 'IN_GESTANTE', 'IN_LACTANTE',\n",
              "       'IN_IDOSO', 'IN_ESTUDA_CLASSE_HOSPITALAR', 'NO_MUNICIPIO_PROVA',\n",
              "       'SG_UF_PROVA', 'TP_PRESENCA_CN', 'TP_PRESENCA_CH', 'TP_PRESENCA_LC',\n",
              "       'TP_PRESENCA_MT', 'TP_STATUS_REDACAO', 'Q001', 'Q002', 'Q003', 'Q004',\n",
              "       'Q005', 'Q006', 'Q007', 'Q008', 'Q009', 'Q010', 'Q011', 'Q012', 'Q013',\n",
              "       'Q014', 'Q015', 'Q016', 'Q017', 'Q018', 'Q019', 'Q020', 'Q021', 'Q022',\n",
              "       'Q023', 'Q024', 'Q025'],\n",
              "      dtype='object')"
            ]
          },
          "metadata": {
            "tags": []
          },
          "execution_count": 113
        }
      ]
    },
    {
      "cell_type": "code",
      "metadata": {
        "colab": {
          "base_uri": "https://localhost:8080/"
        },
        "id": "zUTxH2ypSCAe",
        "outputId": "8ce2acff-f464-44b1-c5da-4757ca223950"
      },
      "source": [
        ""
      ],
      "execution_count": 76,
      "outputs": [
        {
          "output_type": "execute_result",
          "data": {
            "text/plain": [
              "2018    774\n",
              "Name: NU_ANO, dtype: int64"
            ]
          },
          "metadata": {
            "tags": []
          },
          "execution_count": 76
        }
      ]
    }
  ]
}